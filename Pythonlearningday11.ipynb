{
  "nbformat": 4,
  "nbformat_minor": 0,
  "metadata": {
    "colab": {
      "provenance": []
    },
    "kernelspec": {
      "name": "python3",
      "display_name": "Python 3"
    },
    "language_info": {
      "name": "python"
    }
  },
  "cells": [
    {
      "cell_type": "code",
      "execution_count": null,
      "metadata": {
        "id": "nDMBhNNjtgep",
        "colab": {
          "base_uri": "https://localhost:8080/"
        },
        "outputId": "99a5caf2-1d21-451b-dec6-493dfad495fd"
      },
      "outputs": [
        {
          "output_type": "stream",
          "name": "stdout",
          "text": [
            "- - - \n",
            "- - \n",
            "- \n",
            "\n"
          ]
        }
      ],
      "source": [
        "for i in range(1, 5):\n",
        "    for j in range(i,4):\n",
        "        print(\"-\", end=\" \")\n",
        "    print()"
      ]
    },
    {
      "cell_type": "code",
      "source": [
        "for i in range(1,5):\n",
        "  for j in range(i,4):\n",
        "    print(\"-\",end=\"\")\n",
        "  for k in range(i):\n",
        "    print(\"*\",end=\" \")\n",
        "  print()"
      ],
      "metadata": {
        "colab": {
          "base_uri": "https://localhost:8080/"
        },
        "id": "0eYzl4Y37nKL",
        "outputId": "4554ca78-dadb-4efa-a0e2-424058a03d2a"
      },
      "execution_count": null,
      "outputs": [
        {
          "output_type": "stream",
          "name": "stdout",
          "text": [
            "---* \n",
            "--* * \n",
            "-* * * \n",
            "* * * * \n"
          ]
        }
      ]
    },
    {
      "cell_type": "code",
      "source": [
        "for i in range(4,0,-1):\n",
        "  for j in range(i,4):\n",
        "    print(\" \",end=\"\")\n",
        "  for k in range(i):\n",
        "    print(\"*\",end=\" \")\n",
        "  print()"
      ],
      "metadata": {
        "colab": {
          "base_uri": "https://localhost:8080/"
        },
        "id": "Shb_p1nU8PKo",
        "outputId": "35070921-3cd3-4046-fca5-fca5f43a75b2"
      },
      "execution_count": null,
      "outputs": [
        {
          "output_type": "stream",
          "name": "stdout",
          "text": [
            "* * * * \n",
            " * * * \n",
            "  * * \n",
            "   * \n"
          ]
        }
      ]
    },
    {
      "cell_type": "code",
      "source": [
        "for i in range(1,5):\n",
        "  for j in range(1,i):\n",
        "    print(\" \",end=\"\")\n",
        "  for k in range(i,5):\n",
        "    print(\"*\",end=\" \")\n",
        "  print()"
      ],
      "metadata": {
        "colab": {
          "base_uri": "https://localhost:8080/"
        },
        "id": "fx21OhJf8xPZ",
        "outputId": "1fa7b04b-6002-473b-b7c7-8f0a0fc7ace2"
      },
      "execution_count": null,
      "outputs": [
        {
          "output_type": "stream",
          "name": "stdout",
          "text": [
            "* * * * \n",
            " * * * \n",
            "  * * \n",
            "   * \n"
          ]
        }
      ]
    },
    {
      "cell_type": "code",
      "source": [
        "x=5\n",
        "count=2\n",
        "for i in range(1,x+1):\n",
        "  for j in range(i,x):\n",
        "    print(\" \",end=\" \")\n",
        "  for k in range(1,count):\n",
        "    print(\"*\",end=\" \")\n",
        "\n",
        "  count+=2\n",
        "  print()"
      ],
      "metadata": {
        "colab": {
          "base_uri": "https://localhost:8080/"
        },
        "id": "0EfvSEgQ9O9B",
        "outputId": "e849b248-e8f0-4c96-d4b0-d4be28971c78"
      },
      "execution_count": null,
      "outputs": [
        {
          "output_type": "stream",
          "name": "stdout",
          "text": [
            "        * \n",
            "      * * * \n",
            "    * * * * * \n",
            "  * * * * * * * \n",
            "* * * * * * * * * \n"
          ]
        }
      ]
    },
    {
      "cell_type": "code",
      "source": [
        "x=5\n",
        "for i in range(1,x+1):\n",
        "  for j in range(i,x):\n",
        "    print(\" \",end=\" \")\n",
        "  for k in range(1,2*i):\n",
        "    print(\"*\",end=\" \")\n",
        "  print()"
      ],
      "metadata": {
        "colab": {
          "base_uri": "https://localhost:8080/"
        },
        "id": "IroDLdxc-QIu",
        "outputId": "fee157f6-2ce0-4474-8a20-6f523e9dcbe1"
      },
      "execution_count": null,
      "outputs": [
        {
          "output_type": "stream",
          "name": "stdout",
          "text": [
            "        * \n",
            "      * * * \n",
            "    * * * * * \n",
            "  * * * * * * * \n",
            "* * * * * * * * * \n"
          ]
        }
      ]
    },
    {
      "cell_type": "code",
      "source": [
        "x=5\n",
        "for i in range(x,0,-1):\n",
        "  for j in range(i,x):\n",
        "    print(\" \",end=\" \")\n",
        "  for k in range(1,2*i):\n",
        "    print(\"*\",end=\" \")\n",
        "  print()"
      ],
      "metadata": {
        "colab": {
          "base_uri": "https://localhost:8080/"
        },
        "id": "G5Z7SWEiAAi3",
        "outputId": "a1b76723-41a4-47e8-db08-bd5068ec69a0"
      },
      "execution_count": null,
      "outputs": [
        {
          "output_type": "stream",
          "name": "stdout",
          "text": [
            "* * * * * * * * * \n",
            "  * * * * * * * \n",
            "    * * * * * \n",
            "      * * * \n",
            "        * \n"
          ]
        }
      ]
    },
    {
      "cell_type": "code",
      "source": [
        "x=5\n",
        "count=x*2\n",
        "for i in range(x,0,-1):\n",
        "  for j in range(i,x):\n",
        "    print(\" \",end=\" \")\n",
        "  for k in range(1,2*i):\n",
        "    print(\"*\",end=\" \")\n",
        "  count-=2\n",
        "  print()"
      ],
      "metadata": {
        "colab": {
          "base_uri": "https://localhost:8080/"
        },
        "id": "pvaBWdf6AG7c",
        "outputId": "74a86bfa-a10d-476b-cb4a-6bd8436ae4e0"
      },
      "execution_count": null,
      "outputs": [
        {
          "output_type": "stream",
          "name": "stdout",
          "text": [
            "* * * * * * * * * \n",
            "  * * * * * * * \n",
            "    * * * * * \n",
            "      * * * \n",
            "        * \n"
          ]
        }
      ]
    },
    {
      "cell_type": "code",
      "source": [
        "#pattern\n",
        "#today topic List\n",
        "#collect multiple value together\n",
        "#,\n",
        "# mutable => value change kr sakte ho\n",
        "x=10\n",
        "print(id(x))\n",
        "x=20\n",
        "print(id(x))"
      ],
      "metadata": {
        "colab": {
          "base_uri": "https://localhost:8080/"
        },
        "id": "f72vgVOXBkiG",
        "outputId": "e862c4bf-83bc-4db8-c8cc-28bcaf96204e"
      },
      "execution_count": null,
      "outputs": [
        {
          "output_type": "stream",
          "name": "stdout",
          "text": [
            "10751144\n",
            "10751464\n"
          ]
        }
      ]
    },
    {
      "cell_type": "code",
      "source": [
        "marks=[10,54.0,90,87.9]"
      ],
      "metadata": {
        "id": "EGpDKgcJDLK5"
      },
      "execution_count": null,
      "outputs": []
    },
    {
      "cell_type": "code",
      "source": [
        "#index position data access\n",
        "marks[0]"
      ],
      "metadata": {
        "colab": {
          "base_uri": "https://localhost:8080/"
        },
        "id": "9A6dq033Dpkc",
        "outputId": "f2375137-23d9-4ef8-affe-0d4860c33c58"
      },
      "execution_count": null,
      "outputs": [
        {
          "output_type": "execute_result",
          "data": {
            "text/plain": [
              "10"
            ]
          },
          "metadata": {},
          "execution_count": 40
        }
      ]
    },
    {
      "cell_type": "code",
      "source": [
        "marks=[10,54.0,90,87.9]\n",
        "marks[0:3]"
      ],
      "metadata": {
        "colab": {
          "base_uri": "https://localhost:8080/"
        },
        "id": "6pgUohLLDwND",
        "outputId": "85533409-ed6b-496d-8927-84080cceaaf7"
      },
      "execution_count": null,
      "outputs": [
        {
          "output_type": "execute_result",
          "data": {
            "text/plain": [
              "[10, 54.0, 90]"
            ]
          },
          "metadata": {},
          "execution_count": 42
        }
      ]
    },
    {
      "cell_type": "code",
      "source": [
        "marks=[10,54.0,90,87.9]\n",
        "marks[0]=30 #update the value of list\n",
        "print(marks)"
      ],
      "metadata": {
        "colab": {
          "base_uri": "https://localhost:8080/"
        },
        "id": "R0u6-iKADzge",
        "outputId": "bdff8f7b-8e5f-436f-ab2f-4128219fea22"
      },
      "execution_count": null,
      "outputs": [
        {
          "output_type": "stream",
          "name": "stdout",
          "text": [
            "[30, 54.0, 90, 87.9]\n"
          ]
        }
      ]
    },
    {
      "cell_type": "code",
      "source": [
        "marks=[10,54.0,90,87.9]\n",
        "marks.append(\"hey\")\n",
        "print(marks)"
      ],
      "metadata": {
        "colab": {
          "base_uri": "https://localhost:8080/"
        },
        "id": "PqOZIUrvET3P",
        "outputId": "88934877-209b-45c1-9192-656c711ce14a"
      },
      "execution_count": null,
      "outputs": [
        {
          "output_type": "stream",
          "name": "stdout",
          "text": [
            "[10, 54.0, 90, 87.9, 'hey']\n"
          ]
        }
      ]
    },
    {
      "cell_type": "code",
      "source": [
        "marks=[10,54.0,90,87.9]\n",
        "marks.extend(\"hey\")  #extend(iterable)\n",
        "print(marks)"
      ],
      "metadata": {
        "colab": {
          "base_uri": "https://localhost:8080/"
        },
        "id": "Zh-3edWaEhyG",
        "outputId": "9bd2f671-e649-4086-a0d7-b418f915ea96"
      },
      "execution_count": null,
      "outputs": [
        {
          "output_type": "stream",
          "name": "stdout",
          "text": [
            "[10, 54.0, 90, 87.9, 'h', 'e', 'y']\n"
          ]
        }
      ]
    },
    {
      "cell_type": "code",
      "source": [
        "marks=[10,54.0,90,87.9]\n",
        "marks.extend(\"hey\")  #extend(iterable)\n",
        "marks.extend([100,\"hi\"])\n",
        "print(marks)"
      ],
      "metadata": {
        "colab": {
          "base_uri": "https://localhost:8080/"
        },
        "id": "hyANxKXLE5WW",
        "outputId": "980d4945-af88-4913-ef86-1b58c380e83f"
      },
      "execution_count": null,
      "outputs": [
        {
          "output_type": "stream",
          "name": "stdout",
          "text": [
            "[10, 54.0, 90, 87.9, 'h', 'e', 'y', 100, 'hi']\n"
          ]
        }
      ]
    },
    {
      "cell_type": "code",
      "source": [
        "marks=[10,54.0,90,87.9]\n",
        "marks.insert(2,99)\n",
        "print(marks)\n",
        "\n",
        "# O(n)"
      ],
      "metadata": {
        "colab": {
          "base_uri": "https://localhost:8080/"
        },
        "id": "IeAnT4WiFU8Y",
        "outputId": "1ddc69f7-8199-4002-8265-dd6cd9263da1"
      },
      "execution_count": null,
      "outputs": [
        {
          "output_type": "stream",
          "name": "stdout",
          "text": [
            "[10, 54.0, 99, 90, 87.9]\n"
          ]
        }
      ]
    },
    {
      "cell_type": "code",
      "source": [
        "marks=[10,54.0,90,87.9]\n",
        "marks.pop()\n",
        "print(marks)"
      ],
      "metadata": {
        "colab": {
          "base_uri": "https://localhost:8080/"
        },
        "id": "AKkwKPCYFrIm",
        "outputId": "6cfc7e22-16e6-41c1-f76c-8e5446d738e5"
      },
      "execution_count": null,
      "outputs": [
        {
          "output_type": "stream",
          "name": "stdout",
          "text": [
            "[10, 54.0, 90]\n"
          ]
        }
      ]
    },
    {
      "cell_type": "code",
      "source": [
        "marks=[10,54.0,90,87.9]\n",
        "x=marks.pop()\n",
        "print(marks,x)"
      ],
      "metadata": {
        "colab": {
          "base_uri": "https://localhost:8080/"
        },
        "id": "O31YO6YpGL2p",
        "outputId": "46212cd3-754a-4f48-a7fd-6c5785bddb18"
      },
      "execution_count": null,
      "outputs": [
        {
          "output_type": "stream",
          "name": "stdout",
          "text": [
            "[10, 54.0, 90] 87.9\n"
          ]
        }
      ]
    },
    {
      "cell_type": "code",
      "source": [
        "marks=[10,54.0,90,87.9,\"hi\"]\n",
        "x=marks.pop(0)\n",
        "print(marks,x)"
      ],
      "metadata": {
        "colab": {
          "base_uri": "https://localhost:8080/"
        },
        "id": "1Yclrn7CGhom",
        "outputId": "5e0d1974-59eb-443d-99ed-b4b5a718e5d0"
      },
      "execution_count": null,
      "outputs": [
        {
          "output_type": "stream",
          "name": "stdout",
          "text": [
            "[54.0, 90, 87.9, 'hi'] 10\n"
          ]
        }
      ]
    },
    {
      "cell_type": "code",
      "source": [
        "marks=[10,54.0,90,87.9]\n",
        "marks.sort()\n",
        "print(marks)"
      ],
      "metadata": {
        "colab": {
          "base_uri": "https://localhost:8080/"
        },
        "id": "dr29qknqG8co",
        "outputId": "eef38174-b2c9-4477-f016-cdfcb7fd3ce2"
      },
      "execution_count": null,
      "outputs": [
        {
          "output_type": "stream",
          "name": "stdout",
          "text": [
            "[10, 54.0, 87.9, 90]\n"
          ]
        }
      ]
    },
    {
      "cell_type": "code",
      "source": [
        "for i in \"hello\":\n",
        "  print(i)"
      ],
      "metadata": {
        "colab": {
          "base_uri": "https://localhost:8080/"
        },
        "id": "JJJu-8WOHFwS",
        "outputId": "0721354a-459d-43f5-b225-89d6c3ce2466"
      },
      "execution_count": null,
      "outputs": [
        {
          "output_type": "stream",
          "name": "stdout",
          "text": [
            "h\n",
            "e\n",
            "l\n",
            "l\n",
            "o\n"
          ]
        }
      ]
    },
    {
      "cell_type": "code",
      "source": [
        "data=\"hello\"\n",
        "for i in range(0,len(data)):\n",
        "  print(i, data[i])"
      ],
      "metadata": {
        "colab": {
          "base_uri": "https://localhost:8080/"
        },
        "id": "DpuFeBtOHfRJ",
        "outputId": "a49fa439-bcd5-4bdb-abab-eebf644df553"
      },
      "execution_count": null,
      "outputs": [
        {
          "output_type": "stream",
          "name": "stdout",
          "text": [
            "0 h\n",
            "1 e\n",
            "2 l\n",
            "3 l\n",
            "4 o\n"
          ]
        }
      ]
    },
    {
      "cell_type": "code",
      "source": [
        "data=[10,20,30,\"hey\",90]\n",
        "for i in range(0,len(data)):\n",
        "  print(i,data[i])"
      ],
      "metadata": {
        "colab": {
          "base_uri": "https://localhost:8080/"
        },
        "id": "7GTvgJiGHuQx",
        "outputId": "9ea84926-2dce-4dda-e538-eb06141b2a6d"
      },
      "execution_count": null,
      "outputs": [
        {
          "output_type": "stream",
          "name": "stdout",
          "text": [
            "0 10\n",
            "1 20\n",
            "2 30\n",
            "3 hey\n",
            "4 90\n"
          ]
        }
      ]
    },
    {
      "cell_type": "code",
      "source": [
        "data=[10,20,30,90,500]\n",
        "target=50\n",
        "for i in range(0,len(data)):\n",
        "  if(data[i]>target):\n",
        "    print(data[i])"
      ],
      "metadata": {
        "colab": {
          "base_uri": "https://localhost:8080/"
        },
        "id": "F3JEpUcaIHqV",
        "outputId": "41c7b867-07aa-46a1-fad2-a646cabe6257"
      },
      "execution_count": null,
      "outputs": [
        {
          "output_type": "stream",
          "name": "stdout",
          "text": [
            "90\n",
            "500\n"
          ]
        }
      ]
    },
    {
      "cell_type": "code",
      "source": [
        "data=[10,20,30,90,500]\n",
        "target=50\n",
        "for i in range(0,len(data)):\n",
        "  if(data[i]>target):\n",
        "    data[i]=\"hey\"\n",
        "\n",
        "  print(data[i])"
      ],
      "metadata": {
        "colab": {
          "base_uri": "https://localhost:8080/"
        },
        "id": "cWpTESovI75W",
        "outputId": "c7f8b3a1-3f83-4c07-87a4-74ec7c47a4c0"
      },
      "execution_count": null,
      "outputs": [
        {
          "output_type": "stream",
          "name": "stdout",
          "text": [
            "10\n",
            "20\n",
            "30\n",
            "hey\n",
            "hey\n"
          ]
        }
      ]
    },
    {
      "cell_type": "code",
      "source": [
        "data=[10,20,30,90,5]\n",
        "maxi=0\n",
        "for i in range(0,len(data)):\n",
        "  if(data[i]>maxi):\n",
        "    maxi=data[i]\n",
        "print(maxi)"
      ],
      "metadata": {
        "colab": {
          "base_uri": "https://localhost:8080/"
        },
        "id": "QQmCglMzJ4xl",
        "outputId": "5616f8c9-f89a-4081-e666-a1d242bde7d9"
      },
      "execution_count": null,
      "outputs": [
        {
          "output_type": "stream",
          "name": "stdout",
          "text": [
            "90\n"
          ]
        }
      ]
    },
    {
      "cell_type": "code",
      "source": [
        "#find out the total of list\n",
        "data = [10, 20, 30, 90, 5]\n",
        "total = 0\n",
        "for i in range(len(data)):\n",
        "    if(data[i]):\n",
        "        total = total + data[i]\n",
        "    else:\n",
        "        total = total\n",
        "\n",
        "print(\"Total:\", total)"
      ],
      "metadata": {
        "id": "bhqripJ7LAnV",
        "colab": {
          "base_uri": "https://localhost:8080/"
        },
        "outputId": "54c3cada-02ed-4697-dbc9-3e0fc62b7180"
      },
      "execution_count": null,
      "outputs": [
        {
          "output_type": "stream",
          "name": "stdout",
          "text": [
            "Total: 155\n"
          ]
        }
      ]
    },
    {
      "cell_type": "code",
      "source": [
        "# find the average of the list\n",
        "data = [10, 20, 30, 90, 5]\n",
        "total = 0\n",
        "for i in range(len(data)):\n",
        "    if(data[i]):\n",
        "        total = total + data[i]\n",
        "    else:\n",
        "        total = total\n",
        "\n",
        "print(\"Total:\", total)\n",
        "print(\"Average:\", total/len(data))"
      ],
      "metadata": {
        "id": "_Fp92rVgzk8j",
        "colab": {
          "base_uri": "https://localhost:8080/"
        },
        "outputId": "d1cd59a7-803c-4c71-8eb3-c52529d8dd38"
      },
      "execution_count": 2,
      "outputs": [
        {
          "output_type": "stream",
          "name": "stdout",
          "text": [
            "Total: 155\n",
            "Average: 31.0\n"
          ]
        }
      ]
    },
    {
      "cell_type": "code",
      "source": [
        "# list middle position\n",
        "data = [10, 20, 30, 40, 5]\n",
        "length = 0\n",
        "for i in data:\n",
        "    length += 1\n",
        "\n",
        "midindex = length // 2\n",
        "print(\"Middle element:\", data[midindex])\n"
      ],
      "metadata": {
        "id": "Ohino7L11Aq3",
        "colab": {
          "base_uri": "https://localhost:8080/"
        },
        "outputId": "f47dc897-14d3-4f67-a529-1dd436faad19"
      },
      "execution_count": 7,
      "outputs": [
        {
          "output_type": "stream",
          "name": "stdout",
          "text": [
            "Middle element: 30\n"
          ]
        }
      ]
    },
    {
      "cell_type": "code",
      "source": [
        "# second highest from the list\n",
        "data=[10,20,30,90,5]\n",
        "maxi=0\n",
        "maxi2=0\n",
        "for i in range(0,len(data)):\n",
        "  if(data[i]>maxi):\n",
        "    maxi2=maxi\n",
        "    maxi=data[i]\n",
        "  elif(data[i]>maxi2):\n",
        "    maxi2=data[i]\n",
        "print(maxi)\n",
        "print(maxi2)"
      ],
      "metadata": {
        "colab": {
          "base_uri": "https://localhost:8080/"
        },
        "id": "Pmq-DzSp1WP5",
        "outputId": "b51f3211-745f-4a70-f94e-d699829e9e4f"
      },
      "execution_count": 1,
      "outputs": [
        {
          "output_type": "stream",
          "name": "stdout",
          "text": [
            "90\n",
            "30\n"
          ]
        }
      ]
    },
    {
      "cell_type": "code",
      "source": [],
      "metadata": {
        "id": "l-YbIZ442_NR"
      },
      "execution_count": null,
      "outputs": []
    }
  ]
}